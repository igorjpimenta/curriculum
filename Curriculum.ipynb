{
 "cells": [
  {
   "cell_type": "code",
   "execution_count": 4,
   "metadata": {},
   "outputs": [
    {
     "data": {
      "text/html": [
       "<center><h1>Igor Júlio Pimenta</h1></center>"
      ],
      "text/plain": [
       "<IPython.core.display.HTML object>"
      ]
     },
     "metadata": {},
     "output_type": "display_data"
    },
    {
     "data": {
      "text/html": [
       "<center><big>Brasileiro, 24 anos</big></center>"
      ],
      "text/plain": [
       "<IPython.core.display.HTML object>"
      ]
     },
     "metadata": {},
     "output_type": "display_data"
    },
    {
     "data": {
      "text/html": [
       "<center><big>Av. Padre Joaquim Martins, 1220, Ap. 502 - Alvorada, Contagem/MG</big></center>"
      ],
      "text/plain": [
       "<IPython.core.display.HTML object>"
      ]
     },
     "metadata": {},
     "output_type": "display_data"
    },
    {
     "data": {
      "text/html": [
       "<center><big> Contatos: (31) 99195-8627 | <a>igorjpimenta@icloud.com</a></big></center>"
      ],
      "text/plain": [
       "<IPython.core.display.HTML object>"
      ]
     },
     "metadata": {},
     "output_type": "display_data"
    },
    {
     "data": {
      "text/html": [
       "<center><big> Linkedin: <a>linkedin.com/igor-pimenta</a></big></center>"
      ],
      "text/plain": [
       "<IPython.core.display.HTML object>"
      ]
     },
     "metadata": {},
     "output_type": "display_data"
    },
    {
     "data": {
      "text/html": [
       "<center><big> Github: <a>github.com/igorjpimenta</a></big></center>"
      ],
      "text/plain": [
       "<IPython.core.display.HTML object>"
      ]
     },
     "metadata": {},
     "output_type": "display_data"
    },
    {
     "data": {
      "text/html": [
       "<h2> Resumo </h2>"
      ],
      "text/plain": [
       "<IPython.core.display.HTML object>"
      ]
     },
     "metadata": {},
     "output_type": "display_data"
    },
    {
     "data": {
      "text/html": [
       "<big>Profissional dedicado a implementação de cultura data-driven, com três anos de experiência em elaboração de dashboards, otimização de processos e desenvolvimento de soluções subsidiárias à tomada de decisões táticas e estratégicas.</big>"
      ],
      "text/plain": [
       "<IPython.core.display.HTML object>"
      ]
     },
     "metadata": {},
     "output_type": "display_data"
    },
    {
     "data": {
      "text/html": [
       "<h2> Experiência </h2>"
      ],
      "text/plain": [
       "<IPython.core.display.HTML object>"
      ]
     },
     "metadata": {},
     "output_type": "display_data"
    },
    {
     "data": {
      "text/html": [
       "<h3>Anima Holding</h3>"
      ],
      "text/plain": [
       "<IPython.core.display.HTML object>"
      ]
     },
     "metadata": {},
     "output_type": "display_data"
    },
    {
     "data": {
      "text/html": [
       "<big> • Performance analyst | maio/2019 até o momento</big>"
      ],
      "text/plain": [
       "<IPython.core.display.HTML object>"
      ]
     },
     "metadata": {},
     "output_type": "display_data"
    },
    {
     "data": {
      "text/html": [
       "<big></big>"
      ],
      "text/plain": [
       "<IPython.core.display.HTML object>"
      ]
     },
     "metadata": {},
     "output_type": "display_data"
    },
    {
     "data": {
      "text/html": [
       "<big> • Data analyst | março/2018 até abril/2019</big>"
      ],
      "text/plain": [
       "<IPython.core.display.HTML object>"
      ]
     },
     "metadata": {},
     "output_type": "display_data"
    },
    {
     "data": {
      "text/html": [
       "<big>Elaboração de dashboards e soluções que visem fornecer subsídios à tomada de decisões previstas no planejamento estratégico, com informações precisas e fundamentadas em metodologias ágeis e ferramentas de otimização.\n",
       "Promoção da cultura de gestão data-driven.\n",
       "Resolução de desafios estratégicos e operacionais inerentes a área de relacionamento com o cliente.\n",
       "Liderança indireta de equipe de gestão de indicadores.</big>"
      ],
      "text/plain": [
       "<IPython.core.display.HTML object>"
      ]
     },
     "metadata": {},
     "output_type": "display_data"
    },
    {
     "data": {
      "text/html": [
       "<big> • Business analyst | novembro/2016 até fevereiro/2018</big>"
      ],
      "text/plain": [
       "<IPython.core.display.HTML object>"
      ]
     },
     "metadata": {},
     "output_type": "display_data"
    },
    {
     "data": {
      "text/html": [
       "<big></big>"
      ],
      "text/plain": [
       "<IPython.core.display.HTML object>"
      ]
     },
     "metadata": {},
     "output_type": "display_data"
    },
    {
     "data": {
      "image/png": "[encoded data removed]",
      "text/plain": [
       "<Figure size 720x324 with 2 Axes>"
      ]
     },
     "metadata": {
      "needs_background": "light"
     },
     "output_type": "display_data"
    },
    {
     "data": {
      "text/html": [
       "<h2> Formação </h2>"
      ],
      "text/plain": [
       "<IPython.core.display.HTML object>"
      ]
     },
     "metadata": {},
     "output_type": "display_data"
    },
    {
     "data": {
      "text/html": [
       "<big>Engenharia de produção</big>"
      ],
      "text/plain": [
       "<IPython.core.display.HTML object>"
      ]
     },
     "metadata": {},
     "output_type": "display_data"
    },
    {
     "data": {
      "text/html": [
       "<big>Centro Universitário de Belo Horizonte (UniBH)</big>"
      ],
      "text/plain": [
       "<IPython.core.display.HTML object>"
      ]
     },
     "metadata": {},
     "output_type": "display_data"
    },
    {
     "data": {
      "text/html": [
       "<big>Conclusão prevista para dez/2020</big>"
      ],
      "text/plain": [
       "<IPython.core.display.HTML object>"
      ]
     },
     "metadata": {},
     "output_type": "display_data"
    },
    {
     "data": {
      "image/png": "[encoded data removed]",
      "text/plain": [
       "<Figure size 504x144 with 4 Axes>"
      ]
     },
     "metadata": {},
     "output_type": "display_data"
    },
    {
     "data": {
      "text/html": [
       "<h2> Informações adicionais </h2>"
      ],
      "text/plain": [
       "<IPython.core.display.HTML object>"
      ]
     },
     "metadata": {},
     "output_type": "display_data"
    },
    {
     "data": {
      "text/html": [
       "<big>Carteira de habilitação tipo B</big>"
      ],
      "text/plain": [
       "<IPython.core.display.HTML object>"
      ]
     },
     "metadata": {},
     "output_type": "display_data"
    },
    {
     "data": {
      "text/html": [
       "<big>Mobilidade nacional e internacional</big>"
      ],
      "text/plain": [
       "<IPython.core.display.HTML object>"
      ]
     },
     "metadata": {},
     "output_type": "display_data"
    }
   ],
   "source": [
    "#!/usr/bin/env python3\n",
    "# -*- coding: utf-8 -*-\n",
    "\n",
    "# adiconar QR Code com o compilador\n",
    "from show_curriculum import show\n",
    "\n",
    "def basic_information():\n",
    "    return {\n",
    "            'fullname': 'Igor Júlio Pimenta',\n",
    "            'nationality': 'Brasileiro',\n",
    "            'age': '24 anos',\n",
    "            'address': 'Av. Padre Joaquim Martins, 1220, Ap. 502 - Alvorada, Contagem/MG',\n",
    "            'contact': {\n",
    "                    'cellphone': '(31) 99195-8627',\n",
    "                    'email': 'igorjpimenta@icloud.com',\n",
    "                    'skype': 'igorjpimenta'\n",
    "                    },\n",
    "            'social': {\n",
    "                    'github': 'github.com/igorjpimenta',\n",
    "                    'linkedin': 'linkedin.com/igor-pimenta'\n",
    "                    }\n",
    "            }\n",
    "\n",
    "def resume():\n",
    "    return 'Profissional dedicado a implementação de cultura data-driven, com três anos de experiência em elaboração de dashboards, otimização de processos e desenvolvimento de soluções subsidiárias à tomada de decisões táticas e estratégicas.'\n",
    "\n",
    "def experience():\n",
    "    return {            \n",
    "            'current': {\n",
    "                    'company': 'Anima Holding',\n",
    "                    'function': 'Performance analyst',\n",
    "                    'time': 'maio/2019 até o momento',\n",
    "                    'assignments': ''\n",
    "                    },\n",
    "            'last': {\n",
    "                    'company': 'Anima Holding',\n",
    "                    'function': 'Data analyst',\n",
    "                    'time': 'março/2018 até abril/2019',\n",
    "                    'assignments': 'Elaboração de dashboards e soluções que visem fornecer subsídios à tomada de decisões previstas no planejamento estratégico, com informações precisas e fundamentadas em metodologias ágeis e ferramentas de otimização.\\nPromoção da cultura de gestão data-driven.\\nResolução de desafios estratégicos e operacionais inerentes a área de relacionamento com o cliente.\\nLiderança indireta de equipe de gestão de indicadores.'\n",
    "                    },\n",
    "            'secondtolast': {\n",
    "                    'company': 'Anima Holding',\n",
    "                    'function': 'Business analyst',\n",
    "                    'time': 'novembro/2016 até fevereiro/2018',\n",
    "                    'assignments': ''\n",
    "                    }\n",
    "            }\n",
    "\n",
    "def education():\n",
    "    return {\n",
    "            'school': 'Centro Universitário de Belo Horizonte (UniBH)',\n",
    "            'time': 'Conclusão prevista para dez/2020',\n",
    "            'course': 'Engenharia de produção'\n",
    "            }\n",
    "\n",
    "def competences():\n",
    "    return {\n",
    "            'tools': {\n",
    "                    'name': ['Python',\n",
    "                             'Analytics (Tableau, Data Studio)',\n",
    "                             'SQL Server',\n",
    "                             'BLiP (ChatBOT)',\n",
    "                             'Excel + VBA + DAX',\n",
    "                             'BPMN (Heflo, Bizagi, Visio)'],\n",
    "                    'pratice': [0.35, 1, 0.8, 0.9, 1, 0.7],\n",
    "                    'knowledge': [0.6, 0.8, 0.3, 0.7, 1, 0.5]\n",
    "                    },\n",
    "            'habilities': {\n",
    "                    'name': ['Análise crítica',\n",
    "                             'Visão sistêmica',\n",
    "                             'Self learning',\n",
    "                             'Equilíbrio emocional',\n",
    "                             'Comunicação',\n",
    "                             'Agile (Kanban, MVP, Scrum)'],\n",
    "                    'pratice': [1, 1, 0.9, 1, 0.9, 0.3],\n",
    "                    'knowledge': [0.7, 0.65, 1, 0.9, 0.75, 0.6]\n",
    "                    }\n",
    "            }\n",
    "\n",
    "def languages():\n",
    "    return {\n",
    "            'language': 'Inglês',\n",
    "            'skils': ['Speak', 'Listen', 'Write', 'Read'],\n",
    "            'metrics': [0.25, 0.5, 0.35, 0.7]\n",
    "            }\n",
    "\n",
    "def observations():\n",
    "    return ['Carteira de habilitação tipo B',\n",
    "            'Mobilidade nacional e internacional']\n",
    "\n",
    "show(basic_information(), resume(), experience(), education(), competences(), languages(), observations())\n"
   ]
  },
  {
   "cell_type": "code",
   "execution_count": null,
   "metadata": {},
   "outputs": [],
   "source": []
  }
 ],
 "metadata": {
  "kernelspec": {
   "display_name": "Python 3",
   "language": "python",
   "name": "python3"
  },
  "language_info": {
   "codemirror_mode": {
    "name": "ipython",
    "version": 3
   },
   "file_extension": ".py",
   "mimetype": "text/x-python",
   "name": "python",
   "nbconvert_exporter": "python",
   "pygments_lexer": "ipython3",
   "version": "3.7.3"
  }
 },
 "nbformat": 4,
 "nbformat_minor": 2
}
