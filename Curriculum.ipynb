{
 "cells": [
  {
   "cell_type": "markdown",
   "metadata": {},
   "source": [
    "## Role a página para acessar o currículo compilado"
   ]
  },
  {
   "cell_type": "code",
   "execution_count": 3,
   "metadata": {},
   "outputs": [
    {
     "data": {
      "text/html": [
       "<center><h1>Igor Júlio Pimenta</h1></center>"
      ],
      "text/plain": [
       "<IPython.core.display.HTML object>"
      ]
     },
     "metadata": {},
     "output_type": "display_data"
    },
    {
     "data": {
      "text/html": [
       "<center><big>Brasileiro, 24 anos</big></center>"
      ],
      "text/plain": [
       "<IPython.core.display.HTML object>"
      ]
     },
     "metadata": {},
     "output_type": "display_data"
    },
    {
     "data": {
      "text/html": [
       "<center><big>Rua Doutor Lucidio Avelar, 27, Ap. 1303 - Buritis, Belo Horizonte/MG</big></center>"
      ],
      "text/plain": [
       "<IPython.core.display.HTML object>"
      ]
     },
     "metadata": {},
     "output_type": "display_data"
    },
    {
     "data": {
      "text/html": [
       "<center><big> Contatos: (31) 99195-8627 | <a>igorjpimenta@icloud.com</a></big></center>"
      ],
      "text/plain": [
       "<IPython.core.display.HTML object>"
      ]
     },
     "metadata": {},
     "output_type": "display_data"
    },
    {
     "data": {
      "text/html": [
       "<center><big> Linkedin: <a>linkedin.com/igor-pimenta</a></big></center>"
      ],
      "text/plain": [
       "<IPython.core.display.HTML object>"
      ]
     },
     "metadata": {},
     "output_type": "display_data"
    },
    {
     "data": {
      "text/html": [
       "<center><big> Github: <a>github.com/igorjpimenta</a></big></center>"
      ],
      "text/plain": [
       "<IPython.core.display.HTML object>"
      ]
     },
     "metadata": {},
     "output_type": "display_data"
    },
    {
     "data": {
      "text/html": [
       "<h2> Resumo </h2>"
      ],
      "text/plain": [
       "<IPython.core.display.HTML object>"
      ]
     },
     "metadata": {},
     "output_type": "display_data"
    },
    {
     "data": {
      "text/html": [
       "<big>Há três anos dissemino a cultura data-driven através da mudança de mindset das áreas suportadas, com implementação de dashboards usando Tableau e Data Studio, data-storytelling e aplicação de metodologias ágeis. Também aplico inteligência artificial para simplificar e/ou automatizar processos mecânicos ganhando escalabilidade, para direcionar pessoas a contribuírem com o que elas tem de melhor, suas mentes brilhantes.</big>"
      ],
      "text/plain": [
       "<IPython.core.display.HTML object>"
      ]
     },
     "metadata": {},
     "output_type": "display_data"
    },
    {
     "data": {
      "text/html": [
       "<h2> Experiência </h2>"
      ],
      "text/plain": [
       "<IPython.core.display.HTML object>"
      ]
     },
     "metadata": {},
     "output_type": "display_data"
    },
    {
     "data": {
      "text/html": [
       "<h3>Anima Holding</h3>"
      ],
      "text/plain": [
       "<IPython.core.display.HTML object>"
      ]
     },
     "metadata": {},
     "output_type": "display_data"
    },
    {
     "data": {
      "text/html": [
       "<big><b> • Performance analyst | março/2018 até o momento</b></big>"
      ],
      "text/plain": [
       "<IPython.core.display.HTML object>"
      ]
     },
     "metadata": {},
     "output_type": "display_data"
    },
    {
     "data": {
      "text/html": [
       "<big>Manipulação de dados com pacote Pandas para potencialização de processamento.\n",
       "Elaboração e implementação de dashboards usando Tableau e Data Studio, data-storytelling e aplicação de metodologias ágeis, tais como Scrum e Kanban.\n",
       "Disseminação da cultura data-driven através da mudança de mindset das áreas suportadas, usando a resolução de problemas culturais para mostrar o potencial valor agregado que os dados possuem.\n",
       "Aplicação de inteligência artificial, tal como: RPA e/ou automação do processo de importação, modelagem e disponibilização de dados com Jupyter Notebook, para simplificar e/ou automatizar processos mecânicos ganhando escalabilidade, para direcionar pessoas a contribuírem com o que elas tem de melhor, suas mentes brilhantes. \n",
       "Desenvolvimento e manutenção de chatbots para promover contatos inteligentes que resolvam problemas do negócio.</big>"
      ],
      "text/plain": [
       "<IPython.core.display.HTML object>"
      ]
     },
     "metadata": {},
     "output_type": "display_data"
    },
    {
     "data": {
      "text/html": [
       "<big><b> • Data analyst | novembro/2016 até fevereiro/2018</b></big>"
      ],
      "text/plain": [
       "<IPython.core.display.HTML object>"
      ]
     },
     "metadata": {},
     "output_type": "display_data"
    },
    {
     "data": {
      "text/html": [
       "<big>Planejamento e co-execução do projeto de redução da evasão de clientes a partir da metodologia LEAN, em parceria com o LEAN Institute Brasil. Ganhos obtidos de R$ 0,33M em 2017/1 e R$1,5M em 2017/2.\n",
       "Reestruturação da rotina de análise de dados em uma equipe de retenção de clientes, implementando cultura data driven.</big>"
      ],
      "text/plain": [
       "<IPython.core.display.HTML object>"
      ]
     },
     "metadata": {},
     "output_type": "display_data"
    },
    {
     "data": {
      "image/png": "[encoded data removed]",
      "text/plain": [
       "<Figure size 720x324 with 2 Axes>"
      ]
     },
     "metadata": {
      "needs_background": "light"
     },
     "output_type": "display_data"
    },
    {
     "data": {
      "text/html": [
       "<h2> Formação </h2>"
      ],
      "text/plain": [
       "<IPython.core.display.HTML object>"
      ]
     },
     "metadata": {},
     "output_type": "display_data"
    },
    {
     "data": {
      "text/html": [
       "<big>Engenharia de produção</big>"
      ],
      "text/plain": [
       "<IPython.core.display.HTML object>"
      ]
     },
     "metadata": {},
     "output_type": "display_data"
    },
    {
     "data": {
      "text/html": [
       "<big>Centro Universitário de Belo Horizonte (UniBH)</big>"
      ],
      "text/plain": [
       "<IPython.core.display.HTML object>"
      ]
     },
     "metadata": {},
     "output_type": "display_data"
    },
    {
     "data": {
      "text/html": [
       "<big>Conclusão prevista para dez/2020</big>"
      ],
      "text/plain": [
       "<IPython.core.display.HTML object>"
      ]
     },
     "metadata": {},
     "output_type": "display_data"
    },
    {
     "data": {
      "image/png": "[encoded data removed]",
      "text/plain": [
       "<Figure size 504x144 with 4 Axes>"
      ]
     },
     "metadata": {},
     "output_type": "display_data"
    }
   ],
   "source": [
    "from show_curriculum import show\n",
    "\n",
    "def basic_information():\n",
    "    return {\n",
    "            'fullname': 'Igor Júlio Pimenta',\n",
    "            'nationality': 'Brasileiro',\n",
    "            'age': '24 anos',\n",
    "            'address': 'Rua Doutor Lucidio Avelar, 27, Ap. 1303 - Buritis, Belo Horizonte/MG',\n",
    "            'contact': {\n",
    "                    'cellphone': '(31) 99195-8627',\n",
    "                    'email': 'igorjpimenta@icloud.com',\n",
    "                    'skype': 'igorjpimenta'\n",
    "                    },\n",
    "            'social': {\n",
    "                    'github': 'github.com/igorjpimenta',\n",
    "                    'linkedin': 'linkedin.com/igor-pimenta'\n",
    "                    }\n",
    "            }\n",
    "\n",
    "def resume():\n",
    "    return 'Há três anos dissemino a cultura data-driven através da mudança de mindset das áreas suportadas, com implementação de dashboards usando Tableau e Data Studio, data-storytelling e aplicação de metodologias ágeis. Também aplico inteligência artificial para simplificar e/ou automatizar processos mecânicos ganhando escalabilidade, para direcionar pessoas a contribuírem com o que elas tem de melhor, suas mentes brilhantes.'\n",
    "\n",
    "def experience():\n",
    "    return {            \n",
    "            'current': {\n",
    "                    'company': 'Anima Holding',\n",
    "                    'function': 'Performance analyst',\n",
    "                    'time': 'março/2018 até o momento',\n",
    "                    'assignments': 'Manipulação de dados com pacote Pandas para potencialização de processamento.\\nElaboração e implementação de dashboards usando Tableau e Data Studio, data-storytelling e aplicação de metodologias ágeis, tais como Scrum e Kanban.\\nDisseminação da cultura data-driven através da mudança de mindset das áreas suportadas, usando a resolução de problemas culturais para mostrar o potencial valor agregado que os dados possuem.\\nAplicação de inteligência artificial, tal como: RPA e/ou automação do processo de importação, modelagem e disponibilização de dados com Jupyter Notebook, para simplificar e/ou automatizar processos mecânicos ganhando escalabilidade, para direcionar pessoas a contribuírem com o que elas tem de melhor, suas mentes brilhantes. \\nDesenvolvimento e manutenção de chatbots para promover contatos inteligentes que resolvam problemas do negócio.'\n",
    "                    },\n",
    "            'last': {\n",
    "                    'company': 'Anima Holding',\n",
    "                    'function': 'Data analyst',\n",
    "                    'time': 'novembro/2016 até fevereiro/2018',\n",
    "                    'assignments': 'Planejamento e co-execução do projeto de redução da evasão de clientes a partir da metodologia LEAN, em parceria com o LEAN Institute Brasil. Ganhos obtidos de R$ 0,33M em 2017/1 e R$1,5M em 2017/2.\\nReestruturação da rotina de análise de dados em uma equipe de retenção de clientes, implementando cultura data driven.'\n",
    "                    }\n",
    "            }\n",
    "\n",
    "def competences():\n",
    "    return {\n",
    "            'tools': {\n",
    "                    'name': ['Pandas',\n",
    "                             'Numpy',\n",
    "                             'Matplotlib',\n",
    "                             'Analytics (Tableau, Data Studio)',\n",
    "                             'SQL',\n",
    "                             'Excel + VBA + DAX'],\n",
    "                    'pratice': [0.7, 0.5, 0.6, 1, 0.8, 1],\n",
    "                    'knowledge': [0.7, 0.7, 0.8, 0.9, 0.4, 1]\n",
    "                    },\n",
    "            'habilities': {\n",
    "                    'name': ['Análise crítica',\n",
    "                             'Visão sistêmica',\n",
    "                             'Self learning',\n",
    "                             'Equilíbrio emocional',\n",
    "                             'Comunicação',\n",
    "                             'Agile (Kanban, MVP, Scrum)'],\n",
    "                    'pratice': [1, 1, 0.9, 1, 0.9, 0.3],\n",
    "                    'knowledge': [0.7, 0.65, 1, 0.9, 0.8, 0.6]\n",
    "                    }\n",
    "            }\n",
    "\n",
    "def education():\n",
    "    return {\n",
    "            'school': 'Centro Universitário de Belo Horizonte (UniBH)',\n",
    "            'time': 'Conclusão prevista para dez/2020',\n",
    "            'course': 'Engenharia de produção'\n",
    "            }\n",
    "\n",
    "def languages():\n",
    "    return {\n",
    "            'language': 'Inglês',\n",
    "            'skils': ['Speak', 'Listen', 'Write', 'Read'],\n",
    "            'metrics': [0.25, 0.5, 0.35, 0.7]\n",
    "            }\n",
    "\n",
    "def observations():\n",
    "    return ['Carteira de habilitação tipo B',\n",
    "            'Mobilidade nacional e internacional']\n",
    "\n",
    "show(basic_information(), resume(), experience(), education(), competences(), languages())"
   ]
  }
 ],
 "metadata": {
  "kernelspec": {
   "display_name": "Python 3",
   "language": "python",
   "name": "python3"
  },
  "language_info": {
   "codemirror_mode": {
    "name": "ipython",
    "version": 3
   },
   "file_extension": ".py",
   "mimetype": "text/x-python",
   "name": "python",
   "nbconvert_exporter": "python",
   "pygments_lexer": "ipython3",
   "version": "3.7.3"
  }
 },
 "nbformat": 4,
 "nbformat_minor": 2
}
